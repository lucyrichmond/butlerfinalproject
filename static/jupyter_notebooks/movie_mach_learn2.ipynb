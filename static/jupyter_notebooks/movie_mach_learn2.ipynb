{
 "cells": [
  {
   "cell_type": "code",
   "execution_count": 1,
   "metadata": {},
   "outputs": [],
   "source": [
    "%matplotlib inline\n",
    "import matplotlib.pyplot as plt\n",
    "import pandas as pd\n",
    "import os\n",
    "from sklearn.model_selection import train_test_split\n",
    "import numpy as np"
   ]
  },
  {
   "cell_type": "code",
   "execution_count": 2,
   "metadata": {},
   "outputs": [
    {
     "data": {
      "text/html": [
       "<div>\n",
       "<style scoped>\n",
       "    .dataframe tbody tr th:only-of-type {\n",
       "        vertical-align: middle;\n",
       "    }\n",
       "\n",
       "    .dataframe tbody tr th {\n",
       "        vertical-align: top;\n",
       "    }\n",
       "\n",
       "    .dataframe thead th {\n",
       "        text-align: right;\n",
       "    }\n",
       "</style>\n",
       "<table border=\"1\" class=\"dataframe\">\n",
       "  <thead>\n",
       "    <tr style=\"text-align: right;\">\n",
       "      <th></th>\n",
       "      <th>Movie Title</th>\n",
       "      <th>Opening</th>\n",
       "      <th>Total Gross</th>\n",
       "      <th>% of Total</th>\n",
       "      <th>Theaters</th>\n",
       "      <th>Average per Theater</th>\n",
       "      <th>Date</th>\n",
       "      <th>Season Number</th>\n",
       "      <th>Release Year</th>\n",
       "      <th>Movie &amp; Year</th>\n",
       "      <th>...</th>\n",
       "      <th>revenue</th>\n",
       "      <th>runtime</th>\n",
       "      <th>title</th>\n",
       "      <th>vote_average</th>\n",
       "      <th>vote_count</th>\n",
       "      <th>Genre Ids</th>\n",
       "      <th>Genre Names</th>\n",
       "      <th>Company Ids</th>\n",
       "      <th>Company Names</th>\n",
       "      <th>budget2</th>\n",
       "    </tr>\n",
       "  </thead>\n",
       "  <tbody>\n",
       "    <tr>\n",
       "      <td>0</td>\n",
       "      <td>Jurassic World</td>\n",
       "      <td>208806270.0</td>\n",
       "      <td>652270625.0</td>\n",
       "      <td>32%</td>\n",
       "      <td>4274.0</td>\n",
       "      <td>48855.0</td>\n",
       "      <td>2015-06-12</td>\n",
       "      <td>3.0</td>\n",
       "      <td>2015.0</td>\n",
       "      <td>Jurassic World (2015)</td>\n",
       "      <td>...</td>\n",
       "      <td>1.513529e+09</td>\n",
       "      <td>124.0</td>\n",
       "      <td>Jurassic World</td>\n",
       "      <td>6.5</td>\n",
       "      <td>8842.0</td>\n",
       "      <td>28</td>\n",
       "      <td>Action</td>\n",
       "      <td>13.0</td>\n",
       "      <td>Universal Studios</td>\n",
       "      <td>150000000.0</td>\n",
       "    </tr>\n",
       "    <tr>\n",
       "      <td>1</td>\n",
       "      <td>The Avengers</td>\n",
       "      <td>207438708.0</td>\n",
       "      <td>623357910.0</td>\n",
       "      <td>33.3%</td>\n",
       "      <td>4349.0</td>\n",
       "      <td>47698.0</td>\n",
       "      <td>2012-05-04</td>\n",
       "      <td>2.0</td>\n",
       "      <td>2012.0</td>\n",
       "      <td>The Avengers (2012)</td>\n",
       "      <td>...</td>\n",
       "      <td>1.519558e+09</td>\n",
       "      <td>143.0</td>\n",
       "      <td>The Avengers</td>\n",
       "      <td>7.4</td>\n",
       "      <td>12000.0</td>\n",
       "      <td>878</td>\n",
       "      <td>Science Fiction</td>\n",
       "      <td>4.0</td>\n",
       "      <td>Paramount Pictures</td>\n",
       "      <td>220000000.0</td>\n",
       "    </tr>\n",
       "    <tr>\n",
       "      <td>2</td>\n",
       "      <td>Avengers: Age of Ultron</td>\n",
       "      <td>191271109.0</td>\n",
       "      <td>459005868.0</td>\n",
       "      <td>41.7%</td>\n",
       "      <td>4276.0</td>\n",
       "      <td>44731.0</td>\n",
       "      <td>2015-05-01</td>\n",
       "      <td>2.0</td>\n",
       "      <td>2015.0</td>\n",
       "      <td>Avengers: Age of Ultron (2015)</td>\n",
       "      <td>...</td>\n",
       "      <td>1.405404e+09</td>\n",
       "      <td>141.0</td>\n",
       "      <td>Avengers: Age of Ultron</td>\n",
       "      <td>7.3</td>\n",
       "      <td>6908.0</td>\n",
       "      <td>28</td>\n",
       "      <td>Action</td>\n",
       "      <td>420.0</td>\n",
       "      <td>Marvel Studios</td>\n",
       "      <td>280000000.0</td>\n",
       "    </tr>\n",
       "    <tr>\n",
       "      <td>3</td>\n",
       "      <td>Captain America: Civil War</td>\n",
       "      <td>179139142.0</td>\n",
       "      <td>408084349.0</td>\n",
       "      <td>43.9%</td>\n",
       "      <td>4226.0</td>\n",
       "      <td>42389.0</td>\n",
       "      <td>2016-05-06</td>\n",
       "      <td>2.0</td>\n",
       "      <td>2016.0</td>\n",
       "      <td>Captain America: Civil War (2016)</td>\n",
       "      <td>...</td>\n",
       "      <td>1.153304e+09</td>\n",
       "      <td>147.0</td>\n",
       "      <td>Captain America: Civil War</td>\n",
       "      <td>7.1</td>\n",
       "      <td>7462.0</td>\n",
       "      <td>12</td>\n",
       "      <td>Adventure</td>\n",
       "      <td>264.0</td>\n",
       "      <td>Studio Babelsberg</td>\n",
       "      <td>250000000.0</td>\n",
       "    </tr>\n",
       "    <tr>\n",
       "      <td>4</td>\n",
       "      <td>Beauty and the Beast</td>\n",
       "      <td>174750616.0</td>\n",
       "      <td>504014165.0</td>\n",
       "      <td>34.7%</td>\n",
       "      <td>4210.0</td>\n",
       "      <td>41508.0</td>\n",
       "      <td>2017-03-17</td>\n",
       "      <td>2.0</td>\n",
       "      <td>2017.0</td>\n",
       "      <td>Beauty and the Beast (2017)</td>\n",
       "      <td>...</td>\n",
       "      <td>1.262886e+09</td>\n",
       "      <td>129.0</td>\n",
       "      <td>Beauty and the Beast</td>\n",
       "      <td>6.8</td>\n",
       "      <td>5530.0</td>\n",
       "      <td>10751</td>\n",
       "      <td>Family</td>\n",
       "      <td>2.0</td>\n",
       "      <td>Walt Disney Pictures</td>\n",
       "      <td>160000000.0</td>\n",
       "    </tr>\n",
       "  </tbody>\n",
       "</table>\n",
       "<p>5 rows × 31 columns</p>\n",
       "</div>"
      ],
      "text/plain": [
       "                  Movie Title      Opening  Total Gross % of Total  Theaters  \\\n",
       "0              Jurassic World  208806270.0  652270625.0        32%    4274.0   \n",
       "1                The Avengers  207438708.0  623357910.0      33.3%    4349.0   \n",
       "2     Avengers: Age of Ultron  191271109.0  459005868.0      41.7%    4276.0   \n",
       "3  Captain America: Civil War  179139142.0  408084349.0      43.9%    4226.0   \n",
       "4        Beauty and the Beast  174750616.0  504014165.0      34.7%    4210.0   \n",
       "\n",
       "   Average per Theater        Date  Season Number  Release Year  \\\n",
       "0              48855.0  2015-06-12            3.0        2015.0   \n",
       "1              47698.0  2012-05-04            2.0        2012.0   \n",
       "2              44731.0  2015-05-01            2.0        2015.0   \n",
       "3              42389.0  2016-05-06            2.0        2016.0   \n",
       "4              41508.0  2017-03-17            2.0        2017.0   \n",
       "\n",
       "                        Movie & Year  ...       revenue  runtime  \\\n",
       "0              Jurassic World (2015)  ...  1.513529e+09    124.0   \n",
       "1                The Avengers (2012)  ...  1.519558e+09    143.0   \n",
       "2     Avengers: Age of Ultron (2015)  ...  1.405404e+09    141.0   \n",
       "3  Captain America: Civil War (2016)  ...  1.153304e+09    147.0   \n",
       "4        Beauty and the Beast (2017)  ...  1.262886e+09    129.0   \n",
       "\n",
       "                        title  vote_average vote_count Genre Ids  \\\n",
       "0              Jurassic World           6.5     8842.0        28   \n",
       "1                The Avengers           7.4    12000.0       878   \n",
       "2     Avengers: Age of Ultron           7.3     6908.0        28   \n",
       "3  Captain America: Civil War           7.1     7462.0        12   \n",
       "4        Beauty and the Beast           6.8     5530.0     10751   \n",
       "\n",
       "       Genre Names  Company Ids         Company Names      budget2  \n",
       "0           Action         13.0     Universal Studios  150000000.0  \n",
       "1  Science Fiction          4.0    Paramount Pictures  220000000.0  \n",
       "2           Action        420.0        Marvel Studios  280000000.0  \n",
       "3        Adventure        264.0     Studio Babelsberg  250000000.0  \n",
       "4           Family          2.0  Walt Disney Pictures  160000000.0  \n",
       "\n",
       "[5 rows x 31 columns]"
      ]
     },
     "execution_count": 2,
     "metadata": {},
     "output_type": "execute_result"
    }
   ],
   "source": [
    "final_csv = 'data/final_movies2.csv'\n",
    "\n",
    "final = pd.read_csv(final_csv)\n",
    "\n",
    "final = final.drop(columns=['Unnamed: 0'])\n",
    "final.head()"
   ]
  },
  {
   "cell_type": "code",
   "execution_count": 3,
   "metadata": {},
   "outputs": [
    {
     "data": {
      "text/html": [
       "<div>\n",
       "<style scoped>\n",
       "    .dataframe tbody tr th:only-of-type {\n",
       "        vertical-align: middle;\n",
       "    }\n",
       "\n",
       "    .dataframe tbody tr th {\n",
       "        vertical-align: top;\n",
       "    }\n",
       "\n",
       "    .dataframe thead th {\n",
       "        text-align: right;\n",
       "    }\n",
       "</style>\n",
       "<table border=\"1\" class=\"dataframe\">\n",
       "  <thead>\n",
       "    <tr style=\"text-align: right;\">\n",
       "      <th></th>\n",
       "      <th>Opening</th>\n",
       "      <th>Total Gross</th>\n",
       "      <th>Theaters</th>\n",
       "      <th>Average per Theater</th>\n",
       "      <th>revenue</th>\n",
       "      <th>runtime</th>\n",
       "      <th>vote_average</th>\n",
       "      <th>budget2</th>\n",
       "    </tr>\n",
       "  </thead>\n",
       "  <tbody>\n",
       "    <tr>\n",
       "      <td>0</td>\n",
       "      <td>208806270.0</td>\n",
       "      <td>652270625.0</td>\n",
       "      <td>4274.0</td>\n",
       "      <td>48855.0</td>\n",
       "      <td>1.513529e+09</td>\n",
       "      <td>124.0</td>\n",
       "      <td>6.5</td>\n",
       "      <td>150000000.0</td>\n",
       "    </tr>\n",
       "    <tr>\n",
       "      <td>1</td>\n",
       "      <td>207438708.0</td>\n",
       "      <td>623357910.0</td>\n",
       "      <td>4349.0</td>\n",
       "      <td>47698.0</td>\n",
       "      <td>1.519558e+09</td>\n",
       "      <td>143.0</td>\n",
       "      <td>7.4</td>\n",
       "      <td>220000000.0</td>\n",
       "    </tr>\n",
       "    <tr>\n",
       "      <td>2</td>\n",
       "      <td>191271109.0</td>\n",
       "      <td>459005868.0</td>\n",
       "      <td>4276.0</td>\n",
       "      <td>44731.0</td>\n",
       "      <td>1.405404e+09</td>\n",
       "      <td>141.0</td>\n",
       "      <td>7.3</td>\n",
       "      <td>280000000.0</td>\n",
       "    </tr>\n",
       "    <tr>\n",
       "      <td>3</td>\n",
       "      <td>179139142.0</td>\n",
       "      <td>408084349.0</td>\n",
       "      <td>4226.0</td>\n",
       "      <td>42389.0</td>\n",
       "      <td>1.153304e+09</td>\n",
       "      <td>147.0</td>\n",
       "      <td>7.1</td>\n",
       "      <td>250000000.0</td>\n",
       "    </tr>\n",
       "    <tr>\n",
       "      <td>4</td>\n",
       "      <td>174750616.0</td>\n",
       "      <td>504014165.0</td>\n",
       "      <td>4210.0</td>\n",
       "      <td>41508.0</td>\n",
       "      <td>1.262886e+09</td>\n",
       "      <td>129.0</td>\n",
       "      <td>6.8</td>\n",
       "      <td>160000000.0</td>\n",
       "    </tr>\n",
       "    <tr>\n",
       "      <td>...</td>\n",
       "      <td>...</td>\n",
       "      <td>...</td>\n",
       "      <td>...</td>\n",
       "      <td>...</td>\n",
       "      <td>...</td>\n",
       "      <td>...</td>\n",
       "      <td>...</td>\n",
       "      <td>...</td>\n",
       "    </tr>\n",
       "    <tr>\n",
       "      <td>813</td>\n",
       "      <td>19875995.0</td>\n",
       "      <td>50856010.0</td>\n",
       "      <td>2858.0</td>\n",
       "      <td>6954.0</td>\n",
       "      <td>1.035903e+08</td>\n",
       "      <td>89.0</td>\n",
       "      <td>4.9</td>\n",
       "      <td>5000000.0</td>\n",
       "    </tr>\n",
       "    <tr>\n",
       "      <td>814</td>\n",
       "      <td>19828687.0</td>\n",
       "      <td>48071303.0</td>\n",
       "      <td>3065.0</td>\n",
       "      <td>6469.0</td>\n",
       "      <td>9.618890e+07</td>\n",
       "      <td>117.0</td>\n",
       "      <td>7.1</td>\n",
       "      <td>28000000.0</td>\n",
       "    </tr>\n",
       "    <tr>\n",
       "      <td>815</td>\n",
       "      <td>19810585.0</td>\n",
       "      <td>42670410.0</td>\n",
       "      <td>2357.0</td>\n",
       "      <td>8405.0</td>\n",
       "      <td>7.651405e+07</td>\n",
       "      <td>87.0</td>\n",
       "      <td>4.8</td>\n",
       "      <td>16000000.0</td>\n",
       "    </tr>\n",
       "    <tr>\n",
       "      <td>816</td>\n",
       "      <td>19806226.0</td>\n",
       "      <td>60240295.0</td>\n",
       "      <td>2657.0</td>\n",
       "      <td>7454.0</td>\n",
       "      <td>1.028258e+08</td>\n",
       "      <td>96.0</td>\n",
       "      <td>5.7</td>\n",
       "      <td>47000000.0</td>\n",
       "    </tr>\n",
       "    <tr>\n",
       "      <td>817</td>\n",
       "      <td>19738749.0</td>\n",
       "      <td>54870175.0</td>\n",
       "      <td>2536.0</td>\n",
       "      <td>7783.0</td>\n",
       "      <td>8.784004e+07</td>\n",
       "      <td>96.0</td>\n",
       "      <td>5.0</td>\n",
       "      <td>40000000.0</td>\n",
       "    </tr>\n",
       "  </tbody>\n",
       "</table>\n",
       "<p>818 rows × 8 columns</p>\n",
       "</div>"
      ],
      "text/plain": [
       "         Opening  Total Gross  Theaters  Average per Theater       revenue  \\\n",
       "0    208806270.0  652270625.0    4274.0              48855.0  1.513529e+09   \n",
       "1    207438708.0  623357910.0    4349.0              47698.0  1.519558e+09   \n",
       "2    191271109.0  459005868.0    4276.0              44731.0  1.405404e+09   \n",
       "3    179139142.0  408084349.0    4226.0              42389.0  1.153304e+09   \n",
       "4    174750616.0  504014165.0    4210.0              41508.0  1.262886e+09   \n",
       "..           ...          ...       ...                  ...           ...   \n",
       "813   19875995.0   50856010.0    2858.0               6954.0  1.035903e+08   \n",
       "814   19828687.0   48071303.0    3065.0               6469.0  9.618890e+07   \n",
       "815   19810585.0   42670410.0    2357.0               8405.0  7.651405e+07   \n",
       "816   19806226.0   60240295.0    2657.0               7454.0  1.028258e+08   \n",
       "817   19738749.0   54870175.0    2536.0               7783.0  8.784004e+07   \n",
       "\n",
       "     runtime  vote_average      budget2  \n",
       "0      124.0           6.5  150000000.0  \n",
       "1      143.0           7.4  220000000.0  \n",
       "2      141.0           7.3  280000000.0  \n",
       "3      147.0           7.1  250000000.0  \n",
       "4      129.0           6.8  160000000.0  \n",
       "..       ...           ...          ...  \n",
       "813     89.0           4.9    5000000.0  \n",
       "814    117.0           7.1   28000000.0  \n",
       "815     87.0           4.8   16000000.0  \n",
       "816     96.0           5.7   47000000.0  \n",
       "817     96.0           5.0   40000000.0  \n",
       "\n",
       "[818 rows x 8 columns]"
      ]
     },
     "execution_count": 3,
     "metadata": {},
     "output_type": "execute_result"
    }
   ],
   "source": [
    "# narrow down data\n",
    "#new = old[['A', 'C', 'D']].copy()\n",
    "testing_df = final[['Opening','Total Gross', 'Theaters', 'Average per Theater', 'revenue', 'runtime', 'vote_average', 'budget2']].copy()\n",
    "testing_df"
   ]
  },
  {
   "cell_type": "code",
   "execution_count": 4,
   "metadata": {},
   "outputs": [],
   "source": [
    "import seaborn as sns\n",
    "\n",
    "#sns.pairplot(testing_df)\n",
    "#plt.show()"
   ]
  },
  {
   "cell_type": "code",
   "execution_count": 5,
   "metadata": {},
   "outputs": [],
   "source": [
    "# create heatmap to see correlations\n",
    "# corr = testing_df.corr()\n",
    "# plt.figure(figsize=(10,10)) \n",
    "# sns.heatmap(corr, annot=True)"
   ]
  },
  {
   "cell_type": "code",
   "execution_count": 6,
   "metadata": {},
   "outputs": [
    {
     "name": "stdout",
     "output_type": "stream",
     "text": [
      "Shape:  (818, 3) (818, 1)\n"
     ]
    }
   ],
   "source": [
    "# Assign the data to X and y\n",
    "# Note: Sklearn requires a two-dimensional array of values\n",
    "# so we use reshape to create this\n",
    "\n",
    "X = testing_df[[\"Opening\", \"budget2\", \"vote_average\"]].values.reshape(-1, 3)\n",
    "y = testing_df[\"Total Gross\"].values.reshape(-1, 1)\n",
    "\n",
    "print(\"Shape: \", X.shape, y.shape)"
   ]
  },
  {
   "cell_type": "code",
   "execution_count": 7,
   "metadata": {},
   "outputs": [],
   "source": [
    "# Plot the data to see if a linear trend exists\n",
    "\n",
    "#plt.scatter(X, y)\n",
    "#plt.xlabel(\"Opening\")\n",
    "#plt.ylabel(\"Total Gross\")\n"
   ]
  },
  {
   "cell_type": "code",
   "execution_count": 8,
   "metadata": {},
   "outputs": [],
   "source": [
    "# Use sklearn's `train_test_split` to split the data into training and testing\n",
    "\n",
    "from sklearn.model_selection import train_test_split\n",
    "\n",
    "X_train, X_test, y_train, y_test = train_test_split(X, y, random_state=42)"
   ]
  },
  {
   "cell_type": "code",
   "execution_count": 9,
   "metadata": {},
   "outputs": [],
   "source": [
    "from sklearn.linear_model import LinearRegression\n",
    "\n",
    "model = LinearRegression()"
   ]
  },
  {
   "cell_type": "code",
   "execution_count": 10,
   "metadata": {},
   "outputs": [
    {
     "data": {
      "text/plain": [
       "LinearRegression(copy_X=True, fit_intercept=True, n_jobs=None, normalize=False)"
      ]
     },
     "execution_count": 10,
     "metadata": {},
     "output_type": "execute_result"
    }
   ],
   "source": [
    "# Fit the model to the training data. \n",
    "\n",
    "model.fit(X_train, y_train)"
   ]
  },
  {
   "cell_type": "code",
   "execution_count": 11,
   "metadata": {},
   "outputs": [
    {
     "name": "stdout",
     "output_type": "stream",
     "text": [
      "Mean Squared Error (MSE): 2826991402044457.0\n",
      "R-squared (R2 ): 0.7010176427750154\n"
     ]
    }
   ],
   "source": [
    "from sklearn.metrics import mean_squared_error, r2_score\n",
    "\n",
    "# Use our model to make predictions\n",
    "predicted = model.predict(X_test)\n",
    "\n",
    "# Score the predictions with mse and r2\n",
    "mse = mean_squared_error(y_test, predicted)\n",
    "r2 = r2_score(y_test, predicted)\n",
    "\n",
    "print(f\"Mean Squared Error (MSE): {mse}\")\n",
    "print(f\"R-squared (R2 ): {r2}\")"
   ]
  },
  {
   "cell_type": "code",
   "execution_count": 12,
   "metadata": {},
   "outputs": [
    {
     "data": {
      "text/plain": [
       "0.7010176427750155"
      ]
     },
     "execution_count": 12,
     "metadata": {},
     "output_type": "execute_result"
    }
   ],
   "source": [
    "# Call the `score` method on the model to show the r2 score\n",
    "\n",
    "model.score(X_test, y_test)"
   ]
  },
  {
   "cell_type": "code",
   "execution_count": 13,
   "metadata": {},
   "outputs": [
    {
     "name": "stdout",
     "output_type": "stream",
     "text": [
      "Shape:  (818, 3) (818, 1)\n"
     ]
    }
   ],
   "source": [
    "# Assign the data to X and y--use 'revenue' for y this time\n",
    "# Note: Sklearn requires a two-dimensional array of values\n",
    "# so we use reshape to create this\n",
    "\n",
    "X = testing_df[[\"Opening\", \"budget2\", \"vote_average\"]].values.reshape(-1, 3)\n",
    "y = testing_df[\"revenue\"].values.reshape(-1, 1)\n",
    "\n",
    "print(\"Shape: \", X.shape, y.shape)"
   ]
  },
  {
   "cell_type": "code",
   "execution_count": 14,
   "metadata": {},
   "outputs": [],
   "source": [
    "# Use sklearn's `train_test_split` to split the data into training and testing\n",
    "\n",
    "from sklearn.model_selection import train_test_split\n",
    "\n",
    "X_train, X_test, y_train, y_test = train_test_split(X, y, random_state=42)"
   ]
  },
  {
   "cell_type": "code",
   "execution_count": 15,
   "metadata": {},
   "outputs": [],
   "source": [
    "from sklearn.linear_model import LinearRegression\n",
    "\n",
    "model = LinearRegression()"
   ]
  },
  {
   "cell_type": "code",
   "execution_count": 16,
   "metadata": {},
   "outputs": [
    {
     "data": {
      "text/plain": [
       "LinearRegression(copy_X=True, fit_intercept=True, n_jobs=None, normalize=False)"
      ]
     },
     "execution_count": 16,
     "metadata": {},
     "output_type": "execute_result"
    }
   ],
   "source": [
    "# Fit the model to the training data. \n",
    "\n",
    "model.fit(X_train, y_train)"
   ]
  },
  {
   "cell_type": "code",
   "execution_count": 17,
   "metadata": {},
   "outputs": [
    {
     "name": "stdout",
     "output_type": "stream",
     "text": [
      "Mean Squared Error (MSE): 3.5046745378943744e+16\n",
      "R-squared (R2 ): 0.6400077045999389\n"
     ]
    }
   ],
   "source": [
    "from sklearn.metrics import mean_squared_error, r2_score\n",
    "\n",
    "# Use our model to make predictions\n",
    "predicted = model.predict(X_test)\n",
    "\n",
    "# Score the predictions with mse and r2\n",
    "mse = mean_squared_error(y_test, predicted)\n",
    "r2 = r2_score(y_test, predicted)\n",
    "\n",
    "print(f\"Mean Squared Error (MSE): {mse}\")\n",
    "print(f\"R-squared (R2 ): {r2}\")"
   ]
  },
  {
   "cell_type": "code",
   "execution_count": 18,
   "metadata": {},
   "outputs": [
    {
     "data": {
      "text/plain": [
       "0.6400077045999389"
      ]
     },
     "execution_count": 18,
     "metadata": {},
     "output_type": "execute_result"
    }
   ],
   "source": [
    "# Call the `score` method on the model to show the r2 score\n",
    "\n",
    "model.score(X_test, y_test)"
   ]
  }
 ],
 "metadata": {
  "kernelspec": {
   "display_name": "Python 3",
   "language": "python",
   "name": "python3"
  },
  "language_info": {
   "codemirror_mode": {
    "name": "ipython",
    "version": 3
   },
   "file_extension": ".py",
   "mimetype": "text/x-python",
   "name": "python",
   "nbconvert_exporter": "python",
   "pygments_lexer": "ipython3",
   "version": "3.7.4"
  }
 },
 "nbformat": 4,
 "nbformat_minor": 2
}
